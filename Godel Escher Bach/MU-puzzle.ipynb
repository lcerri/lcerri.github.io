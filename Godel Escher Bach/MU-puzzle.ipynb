{
 "cells": [
  {
   "cell_type": "markdown",
   "metadata": {},
   "source": [
    "The MU puzzle is in essence about attempting to produce the string “MU” from an initially given string “MI” as one follows a certain set of rules that can be applied given some conditions. Here are the four rules of the puzzle :"
   ]
  },
  {
   "cell_type": "code",
   "execution_count": 37,
   "metadata": {},
   "outputs": [],
   "source": [
    "# Rule 1 : Add a U to the end of any string ending in I\n",
    "\n",
    "def rule_1(x):\n",
    "    \n",
    "    if x[-1] == 'I':\n",
    "        return [x + 'U']\n",
    "    else :\n",
    "        None\n",
    "        \n",
    "  \n",
    "        \n"
   ]
  },
  {
   "cell_type": "code",
   "execution_count": 38,
   "metadata": {
    "collapsed": true
   },
   "outputs": [],
   "source": [
    "# Rule 2 : Double the string after the M\n",
    "\n",
    "def rule_2(x):\n",
    "    \n",
    "        return [x + x[1:]]"
   ]
  },
  {
   "cell_type": "code",
   "execution_count": 39,
   "metadata": {
    "collapsed": true
   },
   "outputs": [],
   "source": [
    "# Rule 3 : Replace any III with a U\n",
    "\n",
    "def rule_3(x):\n",
    "    \n",
    "    pos = []\n",
    "    key = 'III'\n",
    "    for i in range(len(x)):\n",
    "        if x[i:i+len(key)].find(key) != -1:\n",
    "            pos.append(i)\n",
    "\n",
    "    lst = []\n",
    "    for i in pos:\n",
    "        lst.append(x[:i]+'U'+x[i+len(key):])\n",
    "    return lst\n"
   ]
  },
  {
   "cell_type": "code",
   "execution_count": 40,
   "metadata": {
    "collapsed": true
   },
   "outputs": [],
   "source": [
    "# Rule 4 : Remove any UU\n",
    "\n",
    "def rule_4(x):\n",
    "    \n",
    "    pos = []\n",
    "    key = 'UU'\n",
    "    for i in range(len(x)):\n",
    "        if x[i:i+len(key)].find(key) != -1:\n",
    "            pos.append(i)\n",
    "\n",
    "    lst = []\n",
    "    for i in pos:\n",
    "        lst.append(x[:i]+'U'+x[i+len(key):])\n",
    "    return lst\n",
    "\n"
   ]
  },
  {
   "cell_type": "code",
   "execution_count": 45,
   "metadata": {
    "scrolled": true
   },
   "outputs": [
    {
     "name": "stdout",
     "output_type": "stream",
     "text": [
      "MU Not Found! :( \n"
     ]
    }
   ],
   "source": [
    "rules = (rule_1,rule_2,rule_3,rule_4)\n",
    "\n",
    "theorems = ['MI']\n",
    "target = 'MU'\n",
    "\n",
    "for i in theorems:\n",
    "    for rule in rules:\n",
    "        if rule(i) and rule(i) not in theorems:\n",
    "            theorems.extend(rule(i))\n",
    "    if target in theorems:\n",
    "        print('{} Found!'.format(target))\n",
    "        print(theorems)\n",
    "        break\n",
    "        \n",
    "    elif len(i) > 100:\n",
    "        print('{} Not Found! :( '.format(target))\n",
    "        #print('but from MI, we derived {} and {}'.format(random.choice(theorems), random.choice(theorems)))\n",
    "        break\n",
    "\n",
    "\n",
    "\n",
    "    \n",
    "\n",
    "\n",
    "\n",
    "        \n",
    "        \n"
   ]
  },
  {
   "cell_type": "code",
   "execution_count": null,
   "metadata": {
    "collapsed": true
   },
   "outputs": [],
   "source": []
  }
 ],
 "metadata": {
  "kernelspec": {
   "display_name": "Python 3",
   "language": "python",
   "name": "python3"
  },
  "language_info": {
   "codemirror_mode": {
    "name": "ipython",
    "version": 3
   },
   "file_extension": ".py",
   "mimetype": "text/x-python",
   "name": "python",
   "nbconvert_exporter": "python",
   "pygments_lexer": "ipython3",
   "version": "3.5.3"
  }
 },
 "nbformat": 4,
 "nbformat_minor": 2
}
